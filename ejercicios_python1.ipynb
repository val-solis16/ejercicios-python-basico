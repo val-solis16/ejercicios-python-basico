{
  "nbformat": 4,
  "nbformat_minor": 0,
  "metadata": {
    "colab": {
      "provenance": []
    },
    "kernelspec": {
      "name": "python3",
      "display_name": "Python 3"
    },
    "language_info": {
      "name": "python"
    }
  },
  "cells": [
    {
      "cell_type": "markdown",
      "source": [
        "## Laboratorio 1 Machine Learning Python Avanzado Parte 1\n",
        "## Valeria Solís Monge"
      ],
      "metadata": {
        "id": "oHLeNM7HHxQv"
      }
    },
    {
      "cell_type": "markdown",
      "source": [
        "##Ejercicio 1: Calculadora Simple\n",
        "Crea un programa que:\n",
        "- Pida dos números al usuario\n",
        "- Muestre la suma, resta, multiplicación y división\n",
        "- Maneje el caso de división por cero"
      ],
      "metadata": {
        "id": "dOpj31ADIKzX"
      }
    },
    {
      "cell_type": "code",
      "execution_count": 2,
      "metadata": {
        "colab": {
          "base_uri": "https://localhost:8080/"
        },
        "id": "wzanTuFQHwXf",
        "outputId": "c4a39271-0145-497b-9d59-21d3062a8269"
      },
      "outputs": [
        {
          "output_type": "stream",
          "name": "stdout",
          "text": [
            "Ingrese el primer número: 5\n",
            "Ingrese el segundo número: 2\n",
            "Suma: 7.0\n",
            "Resta: 3.0\n",
            "Multiplicación: 10.0\n",
            "División: 2.5\n"
          ]
        }
      ],
      "source": [
        "def calculadora(): # Pida dos números al usuario\n",
        "    primer_numero = float(input(\"Ingrese el primer número: \"))\n",
        "    segundo_numero = float(input(\"Ingrese el segundo número: \"))\n",
        "\n",
        "# Suma, resta, multiplicación y división\n",
        "    suma = primer_numero + segundo_numero\n",
        "    resta = primer_numero - segundo_numero\n",
        "    multiplicacion = primer_numero * segundo_numero\n",
        "\n",
        "# División por cero\n",
        "    if segundo_numero != 0:\n",
        "        division = primer_numero / segundo_numero\n",
        "    else:\n",
        "        division = \"No se puede dividir por cero\"\n",
        "\n",
        "    print(f\"Suma: {suma}\")\n",
        "    print(f\"Resta: {resta}\")\n",
        "    print(f\"Multiplicación: {multiplicacion}\")\n",
        "    print(f\"División: {division}\")\n",
        "\n",
        "calculadora()"
      ]
    },
    {
      "cell_type": "markdown",
      "source": [
        "##Ejercicio 2: Verificador de Números Pares o Impares\n",
        "Escribe un programa que:\n",
        "- Pida un número al usuario\n",
        "- Determine si es par o impar\n",
        "- Muestre el resultado"
      ],
      "metadata": {
        "id": "taZ7dCSuPSmA"
      }
    },
    {
      "cell_type": "code",
      "source": [
        "def verificar_numero(): # Pida un numero al usuario\n",
        "  numero = float(input(\"Ingrese un número: \"))\n",
        "\n",
        "# Determine si es par o impar\n",
        "  if numero % 2 == 0:\n",
        "    print(f\"El número {numero} es par\")\n",
        "  else:\n",
        "    print(f\"El número {numero} es impar\")\n",
        "\n",
        "# Muestre el resultado\n",
        "verificar_numero()\n"
      ],
      "metadata": {
        "colab": {
          "base_uri": "https://localhost:8080/"
        },
        "id": "bOTDrcwZPZIB",
        "outputId": "9354b7de-9b80-4765-c6e2-78181a33d6ea"
      },
      "execution_count": 3,
      "outputs": [
        {
          "output_type": "stream",
          "name": "stdout",
          "text": [
            "Ingrese un número: 5\n",
            "El número 5.0 es impar\n"
          ]
        }
      ]
    },
    {
      "cell_type": "markdown",
      "source": [
        "##Ejercicio 3: Calculadora de Edad\n",
        "Crea un programa que:\n",
        "- Pida el año de nacimiento\n",
        "- Calcule y muestre la edad actual\n",
        "- Diga en qué año cumplirás 100 años"
      ],
      "metadata": {
        "id": "Nfk6r8AzQMXU"
      }
    },
    {
      "cell_type": "code",
      "source": [
        "def calcu_edad(): # Pida el año de nacimiento\n",
        "  a_nacimiento = int(input(\"Ingrese su año de nacimiento: \"))\n",
        "  a_actual = int(input(\"Ingrese el año actual: \"))\n",
        "\n",
        "# Calcule y muestre la edad actual\n",
        "# Diga en qué año cumplirás 100 años\n",
        "  edad = a_actual - a_nacimiento\n",
        "  a_cumplir_100 = a_nacimiento + 100\n",
        "  print(f\"Su edad es: {edad} años\")\n",
        "  print(f\"En el año {a_cumplir_100} cumplirás 100 años\")\n",
        "\n",
        "calcu_edad()\n"
      ],
      "metadata": {
        "colab": {
          "base_uri": "https://localhost:8080/"
        },
        "id": "B02FQDfORHF8",
        "outputId": "07ccc422-5792-47f7-9ca2-ec1d9167eb24"
      },
      "execution_count": 4,
      "outputs": [
        {
          "output_type": "stream",
          "name": "stdout",
          "text": [
            "Ingrese su año de nacimiento: 1999\n",
            "Ingrese el año actual: 2025\n",
            "Su edad es: 26 años\n",
            "En el año 2099 cumplirás 100 años\n"
          ]
        }
      ]
    },
    {
      "cell_type": "markdown",
      "source": [
        "##Ejercicio 4: Conversor de Temperatura\n",
        "Haz un programa que:\n",
        "- Convierta Celsius a Fahrenheit\n",
        "- Convierta Fahrenheit a Celsius\n",
        "- Permita al usuario elegir qué conversión hacer\n",
        "\n",
        "Fórmulas:\n",
        "\n",
        "F = (C × 9/5) + 32\n",
        "\n",
        "C = (F - 32) × 5/9"
      ],
      "metadata": {
        "id": "yKhnx0NtdL3K"
      }
    },
    {
      "cell_type": "code",
      "source": [
        "def temperatura(): # Elegir la conversión\n",
        "    print(\"Elige que conversión te gustaría hacer\")\n",
        "    print(\"1. De Celsius a Fahrenheit\")\n",
        "    print(\"2. De de Fahrenheit a Celsius\")\n",
        "\n",
        "    conversion = input(\"Elija una conversión (1 o 2): \")\n",
        "\n",
        "# Convierta Celsius a Fahrenheit\n",
        "    if conversion == \"1\":\n",
        "        celsius = float(input(\"Ingrese la temperatura en Celsius: \"))\n",
        "        fahrenheit = (celsius * 9/5) + 32\n",
        "        print(f\"{celsius}°C equivale a {fahrenheit}°F\")\n",
        "\n",
        "# Convierta Fahrenheit a Celsius\n",
        "    elif conversion == \"2\":\n",
        "        fahrenheit = float(input(\"Ingrese la temperatura en Fahrenheit: \"))\n",
        "        celsius = (fahrenheit - 32) * 5/9\n",
        "        print(f\"{fahrenheit}°F equivale a {celsius}°C\")\n",
        "\n",
        "temperatura()"
      ],
      "metadata": {
        "colab": {
          "base_uri": "https://localhost:8080/"
        },
        "id": "plNo_teHje64",
        "outputId": "51ce404d-29b3-4665-a6ec-c743fbde6655"
      },
      "execution_count": 5,
      "outputs": [
        {
          "output_type": "stream",
          "name": "stdout",
          "text": [
            "Elige que conversión te gustaría hacer\n",
            "1. De Celsius a Fahrenheit\n",
            "2. De de Fahrenheit a Celsius\n",
            "Elija una conversión (1 o 2): 1\n",
            "Ingrese la temperatura en Celsius: 34\n",
            "34.0°C equivale a 93.2°F\n"
          ]
        }
      ]
    },
    {
      "cell_type": "markdown",
      "source": [
        "##Ejercicio 5: Contador de Vocales\n",
        "Escribe un programa que:\n",
        "- Pida una palabra o frase al usuario\n",
        "- Cuente cuántas vocales tiene\n",
        "- Muestre cuántas de cada vocal (a, e, i, o, u)"
      ],
      "metadata": {
        "id": "BiPLy9bum_fk"
      }
    },
    {
      "cell_type": "code",
      "source": [
        "def cont_vocales(): # Pida una palabra o frase al usuario\n",
        "    palabra = input(\"Ingrese una palabra o frase: \").lower()\n",
        "\n",
        "    contador = {\n",
        "        'a': 0,\n",
        "        'e': 0,\n",
        "        'i': 0,\n",
        "        'o': 0,\n",
        "        'u': 0\n",
        "    }\n",
        "\n",
        "    for letra in palabra:\n",
        "        if letra in contador:\n",
        "            contador[letra] += 1\n",
        "\n",
        "# Cuente cuántas vocales tiene\n",
        "    total_vocales = sum(contador.values())\n",
        "\n",
        "# Muestre cuántas de cada vocal (a, e, i, o, u)\n",
        "    print(f\"\\nLa palabra o frase tiene {total_vocales} vocales en total:\")\n",
        "    for vocal, cantidad in contador.items():\n",
        "        print(f\"{vocal}: {cantidad}\")\n",
        "\n",
        "cont_vocales()"
      ],
      "metadata": {
        "colab": {
          "base_uri": "https://localhost:8080/"
        },
        "id": "ZIwhZ7ZDnoXl",
        "outputId": "46e1ecb7-c636-4817-e793-d993510bc881"
      },
      "execution_count": 6,
      "outputs": [
        {
          "output_type": "stream",
          "name": "stdout",
          "text": [
            "Ingrese una palabra o frase: Hola que tal\n",
            "\n",
            "La palabra o frase tiene 5 vocales en total:\n",
            "a: 2\n",
            "e: 1\n",
            "i: 0\n",
            "o: 1\n",
            "u: 1\n"
          ]
        }
      ]
    },
    {
      "cell_type": "markdown",
      "source": [
        "##Ejercicio 6: Generador de Tablas de Multiplicar\n",
        "Crea un programa que:\n",
        "- Pida un número al usuario\n",
        "- Muestre la tabla de multiplicar de ese número (del 1 al 10)"
      ],
      "metadata": {
        "id": "QSWVhcbSo-P4"
      }
    },
    {
      "cell_type": "code",
      "source": [
        "def tabla_multiplicar(): # Pida un número al usuario\n",
        "    numero = int(input(\"Ingrese un número para la tabla de multiplicar: \"))\n",
        "\n",
        "# Muestre la tabla de multiplicar de ese número (del 1 al 10)\n",
        "    print(f\"\\nTabla de multiplicar para el {numero}:\")\n",
        "    for i in range(1, 11):\n",
        "        resultado = numero * i\n",
        "        print(f\"{numero} x {i} = {resultado}\")\n",
        "\n",
        "tabla_multiplicar()\n"
      ],
      "metadata": {
        "colab": {
          "base_uri": "https://localhost:8080/"
        },
        "id": "POydKi08pAQW",
        "outputId": "52a04e57-d8c4-4428-b18c-444b7447a2fc"
      },
      "execution_count": 7,
      "outputs": [
        {
          "output_type": "stream",
          "name": "stdout",
          "text": [
            "Ingrese un número para la tabla de multiplicar: 6\n",
            "\n",
            "Tabla de multiplicar para el 6:\n",
            "6 x 1 = 6\n",
            "6 x 2 = 12\n",
            "6 x 3 = 18\n",
            "6 x 4 = 24\n",
            "6 x 5 = 30\n",
            "6 x 6 = 36\n",
            "6 x 7 = 42\n",
            "6 x 8 = 48\n",
            "6 x 9 = 54\n",
            "6 x 10 = 60\n"
          ]
        }
      ]
    },
    {
      "cell_type": "markdown",
      "source": [
        "##Ejercicio 7: Adivina el Número\n",
        "Haz un juego donde:\n",
        "- El programa genere un número aleatorio entre 1 y 50\n",
        "- El usuario trate de adivinarlo\n",
        "\n",
        "- El programa dépistas (\"más alto\" o \"más bajo\")\n",
        "- Cuente cuántos intentos tomó\n"
      ],
      "metadata": {
        "id": "-mHvcw5cpklm"
      }
    },
    {
      "cell_type": "code",
      "source": [
        "import random\n",
        "from random import randint\n",
        "\n",
        "def juego(): # El programa genere un número aleatorio entre 1 y 50 # El usuario trate de adivinarlo\n",
        "  numero_aleatorio = random.randint(1, 50)\n",
        "  intentos = 0\n",
        "  print(\"Adivina el número entre 1 y 50\")\n",
        "  while True: # El programa dé pistas (\"más alto\" o \"más bajo\")\n",
        "    numero_usuario = int(input(\"Ingrese un número: \"))\n",
        "    intentos += 1 # Cuente cuántos intentos tomó\n",
        "    if numero_usuario < numero_aleatorio:\n",
        "      print(\"El número es más alto\")\n",
        "    elif numero_usuario > numero_aleatorio:\n",
        "      print(\"El número es más bajo\")\n",
        "    if numero_usuario == numero_aleatorio:\n",
        "      print(f\"¡Felicidades! Adivinaste el número {numero_aleatorio} en {intentos} intentos\")\n",
        "      break\n",
        "juego()"
      ],
      "metadata": {
        "colab": {
          "base_uri": "https://localhost:8080/"
        },
        "id": "1MEa4I44r8z9",
        "outputId": "c145f44f-b99b-4b16-bed8-3ca01605d583"
      },
      "execution_count": 8,
      "outputs": [
        {
          "output_type": "stream",
          "name": "stdout",
          "text": [
            "Adivina el número entre 1 y 50\n",
            "Ingrese un número: 10\n",
            "El número es más alto\n",
            "Ingrese un número: 20\n",
            "El número es más alto\n",
            "Ingrese un número: 40\n",
            "¡Felicidades! Adivinaste el número 40 en 3 intentos\n"
          ]
        }
      ]
    },
    {
      "cell_type": "markdown",
      "source": [
        "##Ejercicio 8: Lista de Compras\n",
        "Crea un programa que:\n",
        "- Permita agregar productos a una lista\n",
        "- Muestre todos los productos\n",
        "- Permita eliminar productos\n",
        "- Muestre cuántos productos hay en total"
      ],
      "metadata": {
        "id": "7Raf4SmwtWvt"
      }
    },
    {
      "cell_type": "code",
      "source": [
        "def compras():\n",
        "  compras = []\n",
        "\n",
        "  while True:\n",
        "    print(\"\\n1. Agregar producto\")\n",
        "    print(\"2. Ver lista\")\n",
        "    print(\"3. Eliminar producto\")\n",
        "    print(\"4. Salir\")\n",
        "\n",
        "    opcion = input(\"Elige una opción: \")\n",
        "\n",
        "# Permita agregar productos a una lista\n",
        "    if opcion == \"1\":\n",
        "        producto = input(\"Nombre del producto: \")\n",
        "        compras.append(producto)\n",
        "        print(\"Producto agregado.\")\n",
        "\n",
        "# Muestre todos los productos\n",
        "    elif opcion == \"2\":\n",
        "        print(\"\\nLista de compras:\")\n",
        "        for p in compras:\n",
        "            print(\"-\", p)\n",
        "        print(\"Total de productos:\", len(compras)) # Muestre cuántos productos hay en total\n",
        "\n",
        "# Permita eliminar productos\n",
        "    elif opcion == \"3\":\n",
        "        producto = input(\"Nombre del producto a eliminar: \")\n",
        "        if producto in compras:\n",
        "            compras.remove(producto)\n",
        "            print(\"Producto eliminado.\")\n",
        "\n",
        "    elif opcion == \"4\":\n",
        "        break\n",
        "\n",
        "compras()"
      ],
      "metadata": {
        "id": "VH6EQxnmtaX-",
        "colab": {
          "base_uri": "https://localhost:8080/"
        },
        "outputId": "b9ff0158-61ff-4cdc-90f7-b434f6d577b6"
      },
      "execution_count": 9,
      "outputs": [
        {
          "name": "stdout",
          "output_type": "stream",
          "text": [
            "\n",
            "1. Agregar producto\n",
            "2. Ver lista\n",
            "3. Eliminar producto\n",
            "4. Salir\n",
            "Elige una opción: 1\n",
            "Nombre del producto: Leche\n",
            "Producto agregado.\n",
            "\n",
            "1. Agregar producto\n",
            "2. Ver lista\n",
            "3. Eliminar producto\n",
            "4. Salir\n",
            "Elige una opción: 1\n",
            "Nombre del producto: Galletas\n",
            "Producto agregado.\n",
            "\n",
            "1. Agregar producto\n",
            "2. Ver lista\n",
            "3. Eliminar producto\n",
            "4. Salir\n",
            "Elige una opción: 1\n",
            "Nombre del producto: Jugo\n",
            "Producto agregado.\n",
            "\n",
            "1. Agregar producto\n",
            "2. Ver lista\n",
            "3. Eliminar producto\n",
            "4. Salir\n",
            "Elige una opción: 2\n",
            "\n",
            "Lista de compras:\n",
            "- Leche\n",
            "- Galletas\n",
            "- Jugo\n",
            "Total de productos: 3\n",
            "\n",
            "1. Agregar producto\n",
            "2. Ver lista\n",
            "3. Eliminar producto\n",
            "4. Salir\n",
            "Elige una opción: 3\n",
            "Nombre del producto a eliminar: Leche\n",
            "Producto eliminado.\n",
            "\n",
            "1. Agregar producto\n",
            "2. Ver lista\n",
            "3. Eliminar producto\n",
            "4. Salir\n",
            "Elige una opción: 4\n"
          ]
        }
      ]
    },
    {
      "cell_type": "markdown",
      "source": [
        "##Ejercicio 9: Calculadora de Promedio de Notas\n",
        "Escribe un programa que:\n",
        "- Pida al usuario cuántas notas va a ingresar\n",
        "- Reciba todas las notas\n",
        "- Calcule el promedio\n",
        "- Diga si el estudiante aprobó(promedio >= 3.0)"
      ],
      "metadata": {
        "id": "-SH8xKiEk3Z3"
      }
    },
    {
      "cell_type": "code",
      "source": [
        "def calcu_promedios(): # Pida al usuario cuántas notas va a ingresar\n",
        "  notas = input(\"Cantidad de notas a ingresar: \")\n",
        "  suma = 0\n",
        "\n",
        "  for i in range(int(notas)): # Reciba todas las notas y calcule el promedio\n",
        "    nota = float(input(f\"Ingrese la nota {i + 1}: \"))\n",
        "    suma += nota\n",
        "    promedio = suma / int(notas)\n",
        "\n",
        "  print(f\"El promedio es: {promedio}\")\n",
        "\n",
        "# Diga si el estudiante aprobó(promedio >= 3.0)\n",
        "  if promedio >= 3.0:\n",
        "    print(\"El estudiante aprobó\")\n",
        "  else:\n",
        "    print(\"El estudiante reprobó\")\n",
        "\n",
        "calcu_promedios()"
      ],
      "metadata": {
        "colab": {
          "base_uri": "https://localhost:8080/"
        },
        "id": "H8pNZB8RnZya",
        "outputId": "60f59074-378f-4eaa-ce28-16aca42b3761"
      },
      "execution_count": 10,
      "outputs": [
        {
          "output_type": "stream",
          "name": "stdout",
          "text": [
            "Cantidad de notas a ingresar: 3\n",
            "Ingrese la nota 1: 75\n",
            "Ingrese la nota 2: 94\n",
            "Ingrese la nota 3: 76\n",
            "El promedio es: 81.66666666666667\n",
            "El estudiante aprobó\n"
          ]
        }
      ]
    },
    {
      "cell_type": "markdown",
      "source": [
        "##Ejercicio 10: Contador de Palabras\n",
        "Haz un programa que:\n",
        "- Pida una frase al usuario\n",
        "- Cuente cuántas palabras tiene\n",
        "- Muestre la palabra más larga\n",
        "- Muestre la palabra más corta"
      ],
      "metadata": {
        "id": "9NdXVbOhn_pI"
      }
    },
    {
      "cell_type": "code",
      "source": [
        "def conteo_palabras(): # Pida una frase al usuario\n",
        "    frase = input(\"Ingrese una frase: \")\n",
        "    palabras = frase.split()\n",
        "\n",
        "# Cuente cuántas palabras tiene\n",
        "    cantidad_palabras = len(palabras)\n",
        "\n",
        "# Muestre la palabra más larga y más corta\n",
        "    palabra_mas_larga = max(palabras, key=len)\n",
        "    palabra_mas_corta = min(palabras, key=len)\n",
        "    print(f\"\\nLa frase tiene {cantidad_palabras} palabras\")\n",
        "    print(f\"La palabra más larga es: {palabra_mas_larga}\")\n",
        "    print(f\"La palabra más corta es: {palabra_mas_corta}\")\n",
        "conteo_palabras()"
      ],
      "metadata": {
        "colab": {
          "base_uri": "https://localhost:8080/"
        },
        "id": "u18oEyV2rpk-",
        "outputId": "317df0b9-ba98-4010-9b3f-6150ca5e8202"
      },
      "execution_count": 11,
      "outputs": [
        {
          "output_type": "stream",
          "name": "stdout",
          "text": [
            "Ingrese una frase: Hola como estas\n",
            "\n",
            "La frase tiene 3 palabras\n",
            "La palabra más larga es: estas\n",
            "La palabra más corta es: Hola\n"
          ]
        }
      ]
    },
    {
      "cell_type": "markdown",
      "source": [
        "##Ejercicio 11: Verificador de Palíndromos\n",
        "Crea un programa que:\n",
        "- Pida una palabra al usuario\n",
        "- Determine si es un palíndromo (se lee igual al derecho y al revés)\n",
        "- Ignore mayúsculas y minúsculas"
      ],
      "metadata": {
        "id": "uiuo1dYqr8UI"
      }
    },
    {
      "cell_type": "code",
      "source": [
        "def palindromos(): # Pida una palabra al usuario\n",
        "    palabra = input(\"Ingrese una palabra: \").lower() # Ignore mayúsculas y minúsculas\n",
        "    palabra_invertida = palabra[::-1]\n",
        "\n",
        "# Determine si es un palíndromo (se lee igual al derecho y al revés)\n",
        "    if palabra == palabra_invertida:\n",
        "        print(f\"{palabra} es un palíndromo\")\n",
        "palindromos()"
      ],
      "metadata": {
        "colab": {
          "base_uri": "https://localhost:8080/"
        },
        "id": "1gLHqNsHsCfP",
        "outputId": "29f0a563-0c06-4ffe-9eab-b0c19e5d8104"
      },
      "execution_count": 12,
      "outputs": [
        {
          "output_type": "stream",
          "name": "stdout",
          "text": [
            "Ingrese una palabra: oso\n",
            "oso es un palíndromo\n"
          ]
        }
      ]
    },
    {
      "cell_type": "markdown",
      "source": [
        "##Ejercicio 12: Generador de Contraseñas Simple\n",
        "Escribe un programa que:\n",
        "- Genere contraseñas aleatorias\n",
        "- Permita elegir la longitud (mínimo 6 caracteres)\n",
        "- Use letras mayúsculas, minúsculas y números\n",
        "- Genere varias opciones para que el usuario elija"
      ],
      "metadata": {
        "id": "XUyhkX4WsRHa"
      }
    },
    {
      "cell_type": "code",
      "source": [
        "import random\n",
        "import string\n",
        "\n",
        "def contrasena(): # Permita elegir la longitud (mínimo 6 caracteres)\n",
        "    longitud = int(input(\"Ingrese la longitud de la contraseña (mínimo 6 caracteres): \"))\n",
        "\n",
        "    if longitud < 6:\n",
        "        print(\"La longitud debe ser al menos 6 caracteres\")\n",
        "        return\n",
        "# Genere contraseñas aleatorias\n",
        "# Use letras mayúsculas, minúsculas y números\n",
        "# Genere varias opciones para que el usuario elija\n",
        "    caracteres = string.ascii_letters + string.digits\n",
        "    contrasena = ''.join(random.choice(caracteres) for _ in range(longitud))\n",
        "\n",
        "    print(f\"\\nContraseña generada: {contrasena}\")\n",
        "contrasena()"
      ],
      "metadata": {
        "colab": {
          "base_uri": "https://localhost:8080/"
        },
        "id": "VfEWAWiRs0Lu",
        "outputId": "9418be87-062d-41d4-d633-6703f2fe32b6"
      },
      "execution_count": 13,
      "outputs": [
        {
          "output_type": "stream",
          "name": "stdout",
          "text": [
            "Ingrese la longitud de la contraseña (mínimo 6 caracteres): 8\n",
            "\n",
            "Contraseña generada: 53xKSNZx\n"
          ]
        }
      ]
    },
    {
      "cell_type": "markdown",
      "source": [
        "##Ejercicio 13: Calculadora de IMC (Índice de Masa Corporal)\n",
        "Haz un programa que:\n",
        "- Pida peso (en kg) y altura (en metros)\n",
        "- Calcule el IMC (peso / altura2)\n",
        "- Clasifique el resultado:\n",
        "* Bajo peso: IMC < 18.5\n",
        "* Normal: 18.5 ≤ IMC < 25\n",
        "* Sobrepeso: 25 ≤ IMC < 30\n",
        "* Obesidad: IMC ≥ 30"
      ],
      "metadata": {
        "id": "k13NfGMAtRo2"
      }
    },
    {
      "cell_type": "code",
      "source": [
        "def IMC(): # Pida peso (en kg) y altura (en metros)\n",
        "    peso = float(input(\"Ingrese su peso en kg: \"))\n",
        "    altura = float(input(\"Ingrese su altura en metros: \"))\n",
        "\n",
        "# Calcule el IMC (peso / altura2)\n",
        "    imc = peso / (altura ** 2)\n",
        "\n",
        "    print(f\"\\nSu IMC es: {imc:.2f}\")\n",
        "\n",
        "# Clasifique el resultado\n",
        "    if imc < 18.5:\n",
        "      print(\"Peso bajo\")\n",
        "    elif 18.5 <= imc < 25:\n",
        "      print(\"Peso normal\")\n",
        "    elif 25 <= imc < 30:\n",
        "      print(\"Sobrepeso\")\n",
        "    else:\n",
        "      print(\"Obesidad\")\n",
        "\n",
        "IMC()"
      ],
      "metadata": {
        "colab": {
          "base_uri": "https://localhost:8080/"
        },
        "id": "DdPeA7cZtYBc",
        "outputId": "aa118fae-c5d0-4421-d5f9-39416cb45643"
      },
      "execution_count": 14,
      "outputs": [
        {
          "output_type": "stream",
          "name": "stdout",
          "text": [
            "Ingrese su peso en kg: 57\n",
            "Ingrese su altura en metros: 1.64\n",
            "\n",
            "Su IMC es: 21.19\n",
            "Peso normal\n"
          ]
        }
      ]
    },
    {
      "cell_type": "markdown",
      "source": [
        "##Ejercicio 14: Juego de Piedra, Papel o Tijera\n",
        "Crea el clásico juego donde:\n",
        "- El usuario elige piedra, papel o tijera\n",
        "- La computadora elige aleatoriamente\n",
        "- Se determine el ganador según las reglas:\n",
        "* Piedra vence tijera\n",
        "* Tijera vence papel\n",
        "* Papel vence piedra\n",
        "- Lleve el marcador de victorias"
      ],
      "metadata": {
        "id": "OLQNbzFFuygd"
      }
    },
    {
      "cell_type": "code",
      "source": [
        "def piedra_papel_tijera(): # El usuario elige piedra, papel o tijera\n",
        "    opciones = [\"piedra\", \"papel\", \"tijera\"]\n",
        "    puntaje_usuario = 0\n",
        "    puntaje_computadora = 0\n",
        "\n",
        "    while True:\n",
        "        print(\"\\nElige: piedra, papel o tijera, y si no puedes elegir salir\")\n",
        "        eleccion_usuario = input().lower()\n",
        "\n",
        "        if eleccion_usuario == \"salir\":\n",
        "            break\n",
        "\n",
        "# La computadora elige aleatoriamente\n",
        "        eleccion_computadora = random.choice(opciones)\n",
        "        print(f\"La computadora eligió: {eleccion_computadora}\")\n",
        "\n",
        "# Se determine el ganador según las reglas\n",
        "        if eleccion_usuario == eleccion_computadora:\n",
        "            print(\"¡Empate!\")\n",
        "        elif (eleccion_usuario == \"piedra\" and eleccion_computadora == \"tijera\") or \\\n",
        "             (eleccion_usuario == \"tijera\" and eleccion_computadora == \"papel\") or \\\n",
        "             (eleccion_usuario == \"papel\" and eleccion_computadora == \"piedra\"):\n",
        "            print(\"¡Ganaste!\")\n",
        "            puntaje_usuario += 1\n",
        "        else:\n",
        "            print(\"¡La computadora ganó!\")\n",
        "            puntaje_computadora += 1\n",
        "\n",
        "# Lleve el marcador de victorias\n",
        "        print(f\"Marcador - Tú: {puntaje_usuario} | Computadora: {puntaje_computadora}\")\n",
        "\n",
        "    print(\"\\n¡Gracias por jugar!\")\n",
        "    print(f\"Resultado final - Tú: {puntaje_usuario} | Computadora: {puntaje_computadora}\")\n",
        "\n",
        "piedra_papel_tijera()"
      ],
      "metadata": {
        "colab": {
          "base_uri": "https://localhost:8080/"
        },
        "id": "9HVzCLUHu3oN",
        "outputId": "6adef9e9-12cc-48fe-bd05-c97401b122da"
      },
      "execution_count": 15,
      "outputs": [
        {
          "output_type": "stream",
          "name": "stdout",
          "text": [
            "\n",
            "Elige: piedra, papel o tijera, y si no puedes elegir salir\n",
            "piedra\n",
            "La computadora eligió: papel\n",
            "¡La computadora ganó!\n",
            "Marcador - Tú: 0 | Computadora: 1\n",
            "\n",
            "Elige: piedra, papel o tijera, y si no puedes elegir salir\n",
            "tijera\n",
            "La computadora eligió: tijera\n",
            "¡Empate!\n",
            "Marcador - Tú: 0 | Computadora: 1\n",
            "\n",
            "Elige: piedra, papel o tijera, y si no puedes elegir salir\n",
            "papel\n",
            "La computadora eligió: tijera\n",
            "¡La computadora ganó!\n",
            "Marcador - Tú: 0 | Computadora: 2\n",
            "\n",
            "Elige: piedra, papel o tijera, y si no puedes elegir salir\n",
            "salir\n",
            "\n",
            "¡Gracias por jugar!\n",
            "Resultado final - Tú: 0 | Computadora: 2\n"
          ]
        }
      ]
    },
    {
      "cell_type": "markdown",
      "source": [
        "##Ejercicio 15: Conversor de Monedas\n",
        "Escribe un programa que:\n",
        "- Tenga tasas de cambio fijas (ej: 1 USD = 4000 COP)\n",
        "- Permita convertir entre diferentes monedas\n",
        "- Muestre el resultado con 2 decimales\n",
        "- Permita convertir en ambas direcciones\n"
      ],
      "metadata": {
        "id": "Hsz2ez90w6Lw"
      }
    },
    {
      "cell_type": "code",
      "source": [
        "def conversor(): # Tenga tasas de cambio fijas\n",
        "    usd_to_cop = 4000\n",
        "    eur_to_usd = 1.1\n",
        "\n",
        "# Permita convertir entre diferentes monedas\n",
        "    cantidad = float(input(\"Ingresa la cantidad: \"))\n",
        "    de = input(\"Convertir de (USD, COP, EUR): \").upper()\n",
        "    a = input(\"Convertir a (USD, COP, EUR): \").upper()\n",
        "\n",
        "# Permita convertir en ambas direcciones\n",
        "    if de == \"USD\" and a == \"COP\":\n",
        "        resultado = cantidad * usd_to_cop\n",
        "    elif de == \"COP\" and a == \"USD\":\n",
        "        resultado = cantidad / usd_to_cop\n",
        "    elif de == \"USD\" and a == \"EUR\":\n",
        "        resultado = cantidad / eur_to_usd\n",
        "    elif de == \"EUR\" and a == \"USD\":\n",
        "        resultado = cantidad * eur_to_usd\n",
        "\n",
        "# Muestre el resultado con dos decimales\n",
        "    if resultado is not None:\n",
        "        print(f\"{cantidad} {de} = {resultado:.2f} {a}\")\n",
        "\n",
        "conversor()"
      ],
      "metadata": {
        "colab": {
          "base_uri": "https://localhost:8080/"
        },
        "id": "Gt7vYyh9w__t",
        "outputId": "b2eaa649-a740-4bca-e3d1-1a42758539fc"
      },
      "execution_count": 16,
      "outputs": [
        {
          "output_type": "stream",
          "name": "stdout",
          "text": [
            "Ingresa la cantidad: 3000\n",
            "Convertir de (USD, COP, EUR): COP\n",
            "Convertir a (USD, COP, EUR): USD\n",
            "3000.0 COP = 0.75 USD\n"
          ]
        }
      ]
    },
    {
      "cell_type": "markdown",
      "source": [
        "##Ejercicio 16: Organizador de Números\n",
        "Haz un programa que:\n",
        "- Pida al usuario ingresar varios números (hasta que ingrese 0)\n",
        "- Los guarde en una lista\n",
        "- Los muestre ordenados de menor a mayor\n",
        "- Muestre el número mayor y menor\n",
        "- Calcule la suma total"
      ],
      "metadata": {
        "id": "K0dlpbhOy6oQ"
      }
    },
    {
      "cell_type": "code",
      "source": [
        "def org_numeros():\n",
        "    numeros = []\n",
        "\n",
        "    while True: # Pida al usuario ingresar varios números (hasta que ingrese 0)\n",
        "        numero = float(input(\"Ingrese un número (0 para finalizar): \"))\n",
        "        if numero == 0:\n",
        "            break\n",
        "        numeros.append(numero)\n",
        "\n",
        "    if numeros:\n",
        "        numeros.sort() # Los muestre ordenados de menor a mayor\n",
        "        print(\"\\nNúmeros ordenados de menor a mayor:\")\n",
        "        for numero in numeros:\n",
        "            print(numero)\n",
        "\n",
        "# Muestre el número mayor y menor\n",
        "# Calcule la suma total\n",
        "        print(f\"\\nNúmero mayor: {max(numeros)}\")\n",
        "        print(f\"Número menor: {min(numeros)}\")\n",
        "        print(f\"Suma total: {sum(numeros)}\")\n",
        "    else:\n",
        "        print(\"No se ingresaron números.\")\n",
        "\n",
        "org_numeros()"
      ],
      "metadata": {
        "colab": {
          "base_uri": "https://localhost:8080/"
        },
        "id": "B8lFdoHYy_uM",
        "outputId": "1de6b856-7ca9-415c-9935-cd85ec074835"
      },
      "execution_count": 17,
      "outputs": [
        {
          "output_type": "stream",
          "name": "stdout",
          "text": [
            "Ingrese un número (0 para finalizar): 4\n",
            "Ingrese un número (0 para finalizar): 2\n",
            "Ingrese un número (0 para finalizar): 5\n",
            "Ingrese un número (0 para finalizar): 6\n",
            "Ingrese un número (0 para finalizar): 7\n",
            "Ingrese un número (0 para finalizar): 0\n",
            "\n",
            "Números ordenados de menor a mayor:\n",
            "2.0\n",
            "4.0\n",
            "5.0\n",
            "6.0\n",
            "7.0\n",
            "\n",
            "Número mayor: 7.0\n",
            "Número menor: 2.0\n",
            "Suma total: 24.0\n"
          ]
        }
      ]
    },
    {
      "cell_type": "markdown",
      "source": [
        "##Ejercicio 17: Simulador de Dados\n",
        "Crea un programa que:\n",
        "- Simule el lanzamiento de uno o dos dados\n",
        "- Permita al usuario elegir cuántos dados lanzar\n",
        "- Muestre el resultado de cada dado\n",
        "- Muestre la suma total\n",
        "- Permita lanzar múltiples veces"
      ],
      "metadata": {
        "id": "ilFWoOs7z_R7"
      }
    },
    {
      "cell_type": "code",
      "source": [
        "import random\n",
        "\n",
        "def sim_dados():\n",
        "    while True: # Permita al usuario elegir cuántos dados lanzar\n",
        "        dados = input(\"¿Cuántos dados quieres lanzar? (1 o 2): \")\n",
        "\n",
        "        if dados == \"1\": # Muestre el resultado de cada dado y la suma total\n",
        "            resultado = random.randint(1, 6)\n",
        "            print(f\"El resultado del dado es: {resultado}\")\n",
        "            print(f\"La suma total es: {resultado}\")\n",
        "\n",
        "        elif dados == \"2\":\n",
        "            dado1 = random.randint(1, 6)\n",
        "            dado2 = random.randint(1, 6)\n",
        "            suma = dado1 + dado2\n",
        "            print(f\"Resultado del primer dado: {dado1}\")\n",
        "            print(f\"Resultado del segundo dado: {dado2}\")\n",
        "            print(f\"La suma total es: {suma}\")\n",
        "\n",
        "# Permita lanzar múltiples veces\n",
        "        repetir = input(\"\\n¿Quieres lanzar de nuevo? (si/no): \").lower()\n",
        "        if repetir != \"si\":\n",
        "            print(\"¡Gracias por jugar!\")\n",
        "            break\n",
        "\n",
        "sim_dados()"
      ],
      "metadata": {
        "colab": {
          "base_uri": "https://localhost:8080/"
        },
        "id": "B_rVUguS0EEV",
        "outputId": "54d98a0d-bf92-46f0-d0c9-9ccd91515147"
      },
      "execution_count": 18,
      "outputs": [
        {
          "output_type": "stream",
          "name": "stdout",
          "text": [
            "¿Cuántos dados quieres lanzar? (1 o 2): 1\n",
            "El resultado del dado es: 2\n",
            "La suma total es: 2\n",
            "\n",
            "¿Quieres lanzar de nuevo? (si/no): si\n",
            "¿Cuántos dados quieres lanzar? (1 o 2): 1\n",
            "El resultado del dado es: 1\n",
            "La suma total es: 1\n",
            "\n",
            "¿Quieres lanzar de nuevo? (si/no): no\n",
            "¡Gracias por jugar!\n"
          ]
        }
      ]
    },
    {
      "cell_type": "markdown",
      "source": [
        "##Ejercicio 18: Contador de Letras y Números\n",
        "Escribe un programa que:\n",
        "- Pida una cadena de texto al usuario\n",
        "- Cuente cuántas letras tiene\n",
        "\n",
        "- Cuente cuántos números tiene\n",
        "- Cuente cuántos espacios tiene\n",
        "- Cuente cuántos símbolos especiales tiene"
      ],
      "metadata": {
        "id": "kibH__wD1-3E"
      }
    },
    {
      "cell_type": "code",
      "source": [
        "def contador_letras_numeros(): # Pida una cadena de texto al usuario\n",
        "    texto = input(\"Ingrese una cadena de texto: \")\n",
        "    letras = 0\n",
        "    numeros = 0\n",
        "    espacios = 0\n",
        "    simbolos = 0\n",
        "    for caracter in texto: # Cuente cuántas letras tiene\n",
        "        if caracter.isalpha():\n",
        "            letras += 1\n",
        "        elif caracter.isdigit(): # Cuente cuántos números tiene\n",
        "            numeros += 1\n",
        "        elif caracter.isspace(): # Cuente cuántos espacios tiene\n",
        "            espacios += 1\n",
        "        else:\n",
        "            simbolos += 1 # Cuente cuántos símbolos especiales tiene\n",
        "    print(f\"\\nLa cadena de texto tiene:\")\n",
        "    print(f\"{letras} letras\")\n",
        "    print(f\"{numeros} números\")\n",
        "    print(f\"{espacios} espacios\")\n",
        "    print(f\"{simbolos} símbolos especiales\")\n",
        "\n",
        "contador_letras_numeros()"
      ],
      "metadata": {
        "colab": {
          "base_uri": "https://localhost:8080/"
        },
        "id": "QsXIbqKt2EOp",
        "outputId": "5bac10df-8f21-4e1e-caef-2ebfb2a3775f"
      },
      "execution_count": 19,
      "outputs": [
        {
          "output_type": "stream",
          "name": "stdout",
          "text": [
            "Ingrese una cadena de texto: Hola345!#$\n",
            "\n",
            "La cadena de texto tiene:\n",
            "4 letras\n",
            "3 números\n",
            "0 espacios\n",
            "3 símbolos especiales\n"
          ]
        }
      ]
    },
    {
      "cell_type": "markdown",
      "source": [
        "##Ejercicio 19: Lista de Tareas Pendientes\n",
        "Crea un programa que:\n",
        "- Permita agregar tareas a una lista\n",
        "- Marque tareas como completadas\n",
        "- Muestre tareas pendientes y completadas por separado\n",
        "- Permita eliminar tareas\n",
        "- Guarde el progreso durante la sesión"
      ],
      "metadata": {
        "id": "AM8dClRO2_BT"
      }
    },
    {
      "cell_type": "code",
      "source": [
        "def lista_tareas(): # Permita agregar tareas a una lista\n",
        "    tareas = []\n",
        "    tareas_completadas = []\n",
        "\n",
        "    while True:\n",
        "      print(\"\\n1. Agregar tareas\")\n",
        "      print(\"2. Completar tarea\")\n",
        "      print(\"3. Ver tareas pendientes\")\n",
        "      print(\"4. Ver tareas completadas\")\n",
        "      print(\"5. Eliminar tarea\")\n",
        "      print(\"6. Salir\")\n",
        "\n",
        "      seleccion = input(\"Elige una opción: \")\n",
        "\n",
        "      if seleccion == \"1\":\n",
        "          tarea = input(\"Ingrese una tarea: \")\n",
        "          tareas.append(tarea)\n",
        "          print(\"Tarea agregada.\")\n",
        "\n",
        "# Muestre tareas pendientes y completadas por separado\n",
        "      elif seleccion == \"2\":\n",
        "          tarea = input(\"Ingrese la tarea a completar: \")\n",
        "          if tarea in tareas:\n",
        "              tareas.remove(tarea)\n",
        "              tareas_completadas.append(tarea)\n",
        "              print(\"Tarea completada.\")\n",
        "          else:\n",
        "              print(\"La tarea no se encuentra en la lista de tareas pendientes.\")\n",
        "\n",
        "      elif seleccion == \"3\":\n",
        "          print(\"\\nTareas pendientes:\")\n",
        "          if tareas:\n",
        "              for tarea in tareas:\n",
        "                  print(\"-\", tarea)\n",
        "              print(\"Total de tareas pendientes:\", len(tareas))\n",
        "          else:\n",
        "              print(\"No hay tareas pendientes.\")\n",
        "\n",
        "      elif seleccion == \"4\":\n",
        "          print(\"\\nTareas completadas:\")\n",
        "          if tareas_completadas:\n",
        "              for tarea in tareas_completadas:\n",
        "                  print(\"-\", tarea)\n",
        "              print(\"Total de tareas completadas:\", len(tareas_completadas))\n",
        "\n",
        "# Permita eliminar tareas\n",
        "      elif seleccion == \"5\":\n",
        "          tarea_eliminar = input(\"Ingrese la tarea a eliminar: \")\n",
        "          if tarea_eliminar in tareas:\n",
        "              tareas.remove(tarea_eliminar)\n",
        "              print(\"Tarea eliminada.\")\n",
        "          elif tarea_eliminar in tareas_completadas:\n",
        "              tareas_completadas.remove(tarea_eliminar)\n",
        "              print(\"Tarea eliminada.\")\n",
        "\n",
        "      elif seleccion == \"6\":\n",
        "            break\n",
        "\n",
        "lista_tareas()"
      ],
      "metadata": {
        "colab": {
          "base_uri": "https://localhost:8080/"
        },
        "id": "tVOiRVqB3Ql-",
        "outputId": "d3410004-c614-4d81-ba78-21c2f4c2cbc5"
      },
      "execution_count": 20,
      "outputs": [
        {
          "name": "stdout",
          "output_type": "stream",
          "text": [
            "\n",
            "1. Agregar tareas\n",
            "2. Completar tarea\n",
            "3. Ver tareas pendientes\n",
            "4. Ver tareas completadas\n",
            "5. Eliminar tarea\n",
            "6. Salir\n",
            "Elige una opción: 1\n",
            "Ingrese una tarea: español\n",
            "Tarea agregada.\n",
            "\n",
            "1. Agregar tareas\n",
            "2. Completar tarea\n",
            "3. Ver tareas pendientes\n",
            "4. Ver tareas completadas\n",
            "5. Eliminar tarea\n",
            "6. Salir\n",
            "Elige una opción: 1\n",
            "Ingrese una tarea: ciencias\n",
            "Tarea agregada.\n",
            "\n",
            "1. Agregar tareas\n",
            "2. Completar tarea\n",
            "3. Ver tareas pendientes\n",
            "4. Ver tareas completadas\n",
            "5. Eliminar tarea\n",
            "6. Salir\n",
            "Elige una opción: arte\n",
            "\n",
            "1. Agregar tareas\n",
            "2. Completar tarea\n",
            "3. Ver tareas pendientes\n",
            "4. Ver tareas completadas\n",
            "5. Eliminar tarea\n",
            "6. Salir\n",
            "Elige una opción: 1\n",
            "Ingrese una tarea: arte\n",
            "Tarea agregada.\n",
            "\n",
            "1. Agregar tareas\n",
            "2. Completar tarea\n",
            "3. Ver tareas pendientes\n",
            "4. Ver tareas completadas\n",
            "5. Eliminar tarea\n",
            "6. Salir\n",
            "Elige una opción: 1\n",
            "Ingrese una tarea: musica\n",
            "Tarea agregada.\n",
            "\n",
            "1. Agregar tareas\n",
            "2. Completar tarea\n",
            "3. Ver tareas pendientes\n",
            "4. Ver tareas completadas\n",
            "5. Eliminar tarea\n",
            "6. Salir\n",
            "Elige una opción: 2\n",
            "Ingrese la tarea a completar: arte\n",
            "Tarea completada.\n",
            "\n",
            "1. Agregar tareas\n",
            "2. Completar tarea\n",
            "3. Ver tareas pendientes\n",
            "4. Ver tareas completadas\n",
            "5. Eliminar tarea\n",
            "6. Salir\n",
            "Elige una opción: 2\n",
            "Ingrese la tarea a completar: musica\n",
            "Tarea completada.\n",
            "\n",
            "1. Agregar tareas\n",
            "2. Completar tarea\n",
            "3. Ver tareas pendientes\n",
            "4. Ver tareas completadas\n",
            "5. Eliminar tarea\n",
            "6. Salir\n",
            "Elige una opción: 3\n",
            "\n",
            "Tareas pendientes:\n",
            "- español\n",
            "- ciencias\n",
            "Total de tareas pendientes: 2\n",
            "\n",
            "1. Agregar tareas\n",
            "2. Completar tarea\n",
            "3. Ver tareas pendientes\n",
            "4. Ver tareas completadas\n",
            "5. Eliminar tarea\n",
            "6. Salir\n",
            "Elige una opción: 4\n",
            "\n",
            "Tareas completadas:\n",
            "- arte\n",
            "- musica\n",
            "Total de tareas completadas: 2\n",
            "\n",
            "1. Agregar tareas\n",
            "2. Completar tarea\n",
            "3. Ver tareas pendientes\n",
            "4. Ver tareas completadas\n",
            "5. Eliminar tarea\n",
            "6. Salir\n",
            "Elige una opción: 6\n"
          ]
        }
      ]
    },
    {
      "cell_type": "markdown",
      "source": [
        "##Ejercicio 20: Calculadora de Tiempo\n",
        "Haz un programa que:\n",
        "- Convierta segundos a horas, minutos y segundos\n",
        "- Convierta minutos a horas y minutos\n",
        "- Sume dos tiempos dados en formato hh:mm:ss\n",
        "- Calcule la diferencia entre dos horarios"
      ],
      "metadata": {
        "id": "er3bN39W5UoJ"
      }
    },
    {
      "cell_type": "code",
      "source": [
        "def calculadora_tiempo():\n",
        "    import datetime\n",
        "\n",
        "    while True:\n",
        "        print(\"\\n--- Calculadora de Tiempo ---\")\n",
        "        print(\"1. Convertir segundos a hh:mm:ss\")\n",
        "        print(\"2. Convertir minutos a hh:mm\")\n",
        "        print(\"3. Sumar dos tiempos (hh:mm:ss)\")\n",
        "        print(\"4. Calcular diferencia entre dos tiempos (hh:mm:ss)\")\n",
        "        print(\"5. Salir\")\n",
        "\n",
        "        opcion = input(\"Elige una opción: \")\n",
        "\n",
        "# Convierta segundos a horas, minutos y segundos\n",
        "        if opcion == \"1\":\n",
        "            segundos = int(input(\"Ingresa los segundos: \"))\n",
        "            horas = segundos // 3600\n",
        "            minutos = (segundos % 3600) // 60\n",
        "            segundos = segundos % 60\n",
        "            print(f\"Resultado: {horas:02}:{minutos:02}:{segundos:02}\")\n",
        "\n",
        "# Convierta minutos a horas y minutos\n",
        "        elif opcion == \"2\":\n",
        "            minutos = int(input(\"Ingresa los minutos: \"))\n",
        "            horas = minutos // 60\n",
        "            minutos = minutos % 60\n",
        "            print(f\"Resultado: {horas:02}:{minutos:02}\")\n",
        "\n",
        "# Sume dos tiempos dados en formato hh:mm:ss\n",
        "        elif opcion == \"3\":\n",
        "            t1 = input(\"Primer tiempo (hh:mm:ss): \")\n",
        "            t2 = input(\"Segundo tiempo (hh:mm:ss): \")\n",
        "\n",
        "            h1, m1, s1 = map(int, t1.split(\":\"))\n",
        "            h2, m2, s2 = map(int, t2.split(\":\"))\n",
        "\n",
        "            total_segundos = (h1 + h2) * 3600 + (m1 + m2) * 60 + (s1 + s2)\n",
        "            horas = total_segundos // 3600\n",
        "            minutos = (total_segundos % 3600) // 60\n",
        "            segundos = total_segundos % 60\n",
        "\n",
        "            print(f\"Suma: {horas:02}:{minutos:02}:{segundos:02}\")\n",
        "\n",
        "# Calcule la diferencia entre dos horarios\n",
        "        elif opcion == \"4\":\n",
        "            t1 = input(\"Primer tiempo (hh:mm:ss): \")\n",
        "            t2 = input(\"Segundo tiempo (hh:mm:ss): \")\n",
        "\n",
        "            h1, m1, s1 = map(int, t1.split(\":\"))\n",
        "            h2, m2, s2 = map(int, t2.split(\":\"))\n",
        "\n",
        "            seg1 = h1 * 3600 + m1 * 60 + s1\n",
        "            seg2 = h2 * 3600 + m2 * 60 + s2\n",
        "            diferencia = abs(seg1 - seg2)\n",
        "\n",
        "            horas = diferencia // 3600\n",
        "            minutos = (diferencia % 3600) // 60\n",
        "            segundos = diferencia % 60\n",
        "\n",
        "            print(f\"Diferencia: {horas:02}:{minutos:02}:{segundos:02}\")\n",
        "\n",
        "        elif opcion == \"5\":\n",
        "            print(\"¡Hasta luego!\")\n",
        "            break\n",
        "        else:\n",
        "            print(\"Opción no válida. Intenta otra vez.\")\n",
        "\n",
        "calculadora_tiempo()\n"
      ],
      "metadata": {
        "colab": {
          "base_uri": "https://localhost:8080/"
        },
        "id": "nuBXFeYK5ZPc",
        "outputId": "76c462de-b52e-4d94-8bf5-2dff6d736f64"
      },
      "execution_count": 22,
      "outputs": [
        {
          "output_type": "stream",
          "name": "stdout",
          "text": [
            "\n",
            "--- Calculadora de Tiempo ---\n",
            "1. Convertir segundos a hh:mm:ss\n",
            "2. Convertir minutos a hh:mm\n",
            "3. Sumar dos tiempos (hh:mm:ss)\n",
            "4. Calcular diferencia entre dos tiempos (hh:mm:ss)\n",
            "5. Salir\n",
            "Elige una opción: 1\n",
            "Ingresa los segundos: 360\n",
            "Resultado: 00:06:00\n",
            "\n",
            "--- Calculadora de Tiempo ---\n",
            "1. Convertir segundos a hh:mm:ss\n",
            "2. Convertir minutos a hh:mm\n",
            "3. Sumar dos tiempos (hh:mm:ss)\n",
            "4. Calcular diferencia entre dos tiempos (hh:mm:ss)\n",
            "5. Salir\n",
            "Elige una opción: 2\n",
            "Ingresa los minutos: 360\n",
            "Resultado: 06:00\n",
            "\n",
            "--- Calculadora de Tiempo ---\n",
            "1. Convertir segundos a hh:mm:ss\n",
            "2. Convertir minutos a hh:mm\n",
            "3. Sumar dos tiempos (hh:mm:ss)\n",
            "4. Calcular diferencia entre dos tiempos (hh:mm:ss)\n",
            "5. Salir\n",
            "Elige una opción: 3\n",
            "Primer tiempo (hh:mm:ss): 25:52:20\n",
            "Segundo tiempo (hh:mm:ss): 10:40:15\n",
            "Suma: 36:32:35\n",
            "\n",
            "--- Calculadora de Tiempo ---\n",
            "1. Convertir segundos a hh:mm:ss\n",
            "2. Convertir minutos a hh:mm\n",
            "3. Sumar dos tiempos (hh:mm:ss)\n",
            "4. Calcular diferencia entre dos tiempos (hh:mm:ss)\n",
            "5. Salir\n",
            "Elige una opción: 5\n",
            "¡Hasta luego!\n"
          ]
        }
      ]
    }
  ]
}