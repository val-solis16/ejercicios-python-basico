{
  "nbformat": 4,
  "nbformat_minor": 0,
  "metadata": {
    "colab": {
      "provenance": []
    },
    "kernelspec": {
      "name": "python3",
      "display_name": "Python 3"
    },
    "language_info": {
      "name": "python"
    }
  },
  "cells": [
    {
      "cell_type": "markdown",
      "source": [
        "## Laboratorio 1 Machine Learning Python Avanzado Parte 2\n",
        "## Valeria Solís Monge"
      ],
      "metadata": {
        "id": "Qmv3it66T6RA"
      }
    },
    {
      "cell_type": "markdown",
      "source": [
        "## Ejercicio 1: Calculadora de Propinas\n",
        "\n",
        "Contexto: Trabajas de mesero y quieres calcular rápidamente las propinas.\n",
        "En tu restaurante, la propina estándar es 10%, pero si el servicio fue excelente\n",
        "los clientes dan 15%, y si fue excepcional dan 20%.\n",
        "Crea un programa que:\n",
        "- Reciba el monto total de la cuenta\n",
        "- Pregunte qué tipo de servicio se brindó(normal/excelente/excepcional)\n",
        "- Calcule la propina correspondiente\n",
        "- Muestre el total a pagar incluyendo la propina"
      ],
      "metadata": {
        "id": "L9ux_jXkCyok"
      }
    },
    {
      "cell_type": "code",
      "execution_count": 1,
      "metadata": {
        "colab": {
          "base_uri": "https://localhost:8080/"
        },
        "id": "ouNdDVS7CagG",
        "outputId": "296f7f0c-8766-4494-855b-db9f717f9145"
      },
      "outputs": [
        {
          "output_type": "stream",
          "name": "stdout",
          "text": [
            "Ingrese el monto total de la cuenta: 600\n",
            "¿Qué tipo de servicio se brindó? (normal/excelente/exceptional): excelente\n",
            "Propina: 90.0\n",
            "Total a pagar: 690.0\n"
          ]
        }
      ],
      "source": [
        "def calcu_propinas(): # Reciba el monto total de la cuenta\n",
        "    total_cuenta = float(input(\"Ingrese el monto total de la cuenta: \"))\n",
        "\n",
        "    # Pregunte qué tipo de servicio se brindó(normal/excelente/excepcional)\n",
        "    servicio = input(\"¿Qué tipo de servicio se brindó? (normal/excelente/exceptional): \")\n",
        "\n",
        "    if servicio == \"normal\":\n",
        "        propina = total_cuenta * 0.10\n",
        "    elif servicio == \"excelente\":\n",
        "        propina = total_cuenta * 0.15\n",
        "    elif servicio == \"excepcional\":\n",
        "        propina = total_cuenta * 0.20\n",
        "\n",
        "# Calcule la propina correspondiente y muestre el total a pagar incluyendo la propina\n",
        "    total = total_cuenta + propina\n",
        "    print(\"Propina:\", propina)\n",
        "    print(\"Total a pagar:\", total)\n",
        "\n",
        "calcu_propinas()"
      ]
    },
    {
      "cell_type": "markdown",
      "source": [
        "##Ejercicio 2: Calculadora de Tiempo de Viaje\n",
        "\n",
        "Contexto: Viajas diariamente al trabajo y quieres saber a qué hora salir.\n",
        "El tráfico varía según la hora: en hora pico tardas 45 min, en hora normal 30 min,\n",
        "y muy temprano solo 20 min.\n",
        "Crea un programa que:\n",
        "- Reciba la hora a la que debes llegar\n",
        "- Determine si es hora pico (7-9 AM, 5-7 PM), normal u hora tranquila\n",
        "- Calcule a quéhora debes salir\n",
        "- Te dé 10 minutos extra por si acaso"
      ],
      "metadata": {
        "id": "ovHSXEceOZIn"
      }
    },
    {
      "cell_type": "code",
      "source": [
        "def calcu_viaje(): # Recibe la hora que debes llegar\n",
        "    hora_llegada = int(input(\"¿A qué hora debes llegar? (en formato 24h (6, 8, 17): \"))\n",
        "\n",
        "# Determine si es hora pico, normal o tranquila\n",
        "    if 7 <= hora_llegada <= 9 or 17 <= hora_llegada <= 19:\n",
        "        tiempo_viaje = 45\n",
        "        tipo_hora = \"hora pico\"\n",
        "    elif hora_llegada < 7:\n",
        "        tiempo_viaje = 20\n",
        "        tipo_hora = \"muy temprano\"\n",
        "    else:\n",
        "        tiempo_viaje = 30\n",
        "        tipo_hora = \"hora normal\"\n",
        "\n",
        "# Te dé 10 minutos extra por si acaso\n",
        "    tiempo_total = tiempo_viaje + 10\n",
        "\n",
        "# Calcule a que hora debes salir\n",
        "    hora_salida = hora_llegada\n",
        "    minutos_salida = 0 - tiempo_total\n",
        "\n",
        "    while minutos_salida < 0:\n",
        "        hora_salida -= 1\n",
        "        minutos_salida += 60\n",
        "\n",
        "    print(\"Es\", tipo_hora)\n",
        "    print(\"Debes salir a las\", hora_salida, \"con\", minutos_salida, \"minutos\")\n",
        "\n",
        "calcu_viaje()"
      ],
      "metadata": {
        "id": "BAu37mh9WJaA",
        "colab": {
          "base_uri": "https://localhost:8080/"
        },
        "outputId": "1bb0a7d0-ea60-4a6f-d832-7a5b6a8efa44"
      },
      "execution_count": 2,
      "outputs": [
        {
          "output_type": "stream",
          "name": "stdout",
          "text": [
            "¿A qué hora debes llegar? (en formato 24h (6, 8, 17): 7\n",
            "Es hora pico\n",
            "Debes salir a las 6 con 5 minutos\n"
          ]
        }
      ]
    },
    {
      "cell_type": "markdown",
      "source": [
        "##Ejercicio 3: Contador de Pasos Diarios\n",
        "Contexto: Quieres llevar control de tus pasos diarios. Tu meta es caminar\n",
        "10,000 pasos al día, pero algunos días caminas más o menos.\n",
        "Crea un programa que:\n",
        "- Registre tus pasos diarios\n",
        "- Te diga si cumpliste la meta del día\n",
        "- Calcule tu promedio semanal\n",
        "- Te muestre cuántos pasos necesitas el último día de la semana para alcanzar la meta\n",
        "semanal"
      ],
      "metadata": {
        "id": "SAKurjUlstuM"
      }
    },
    {
      "cell_type": "code",
      "source": [
        "def contador_pasos():\n",
        "    pasos_diarios = []\n",
        "    meta_diaria = 10000\n",
        "    dias_registrados = 6\n",
        "    meta_semanal = 70000\n",
        "\n",
        "# Registrar pasos diarios\n",
        "    for dia in range(1, dias_registrados + 1):\n",
        "        pasos = int(input(f\"Ingrese los pasos del día {dia}: \"))\n",
        "        pasos_diarios.append(pasos)\n",
        "\n",
        "# Cumpliste con la meta del día\n",
        "        if pasos >= meta_diaria:\n",
        "            print(\"Meta diaria alcanzada.\")\n",
        "        else:\n",
        "            print(\"Meta no alcanzada. Te faltaron\", meta_diaria - pasos, \"pasos.\")\n",
        "\n",
        "# Calcular promedio semanal (6 días)\n",
        "    promedio = sum(pasos_diarios) / dias_registrados\n",
        "    print(\"Promedio de pasos (días 1 al 6):\", promedio)\n",
        "\n",
        "# Pasos necesarios del último día de la semana para alcanzar la meta semanal\n",
        "    acumulado = sum(pasos_diarios)\n",
        "    necesarios = meta_semanal - acumulado\n",
        "\n",
        "    if necesarios <= 0:\n",
        "        print(\"¡Ya alcanzaste la meta semanal antes del día 7!\")\n",
        "    else:\n",
        "        print(\"Para cumplir la meta semanal necesitas\", necesarios, \"pasos el día 7.\")\n",
        "\n",
        "contador_pasos()\n"
      ],
      "metadata": {
        "colab": {
          "base_uri": "https://localhost:8080/"
        },
        "id": "UMvCcqymPZm1",
        "outputId": "cbaadeda-c8c0-4dc7-858b-23075a2d3057"
      },
      "execution_count": 3,
      "outputs": [
        {
          "output_type": "stream",
          "name": "stdout",
          "text": [
            "Ingrese los pasos del día 1: 1000\n",
            "Meta no alcanzada. Te faltaron 9000 pasos.\n",
            "Ingrese los pasos del día 2: 10000\n",
            "Meta diaria alcanzada.\n",
            "Ingrese los pasos del día 3: 10000\n",
            "Meta diaria alcanzada.\n",
            "Ingrese los pasos del día 4: 10000\n",
            "Meta diaria alcanzada.\n",
            "Ingrese los pasos del día 5: 10000\n",
            "Meta diaria alcanzada.\n",
            "Ingrese los pasos del día 6: 10000\n",
            "Meta diaria alcanzada.\n",
            "Promedio de pasos (días 1 al 6): 8500.0\n",
            "Para cumplir la meta semanal necesitas 19000 pasos el día 7.\n"
          ]
        }
      ]
    },
    {
      "cell_type": "markdown",
      "source": [
        "##Ejercicio 4: Calculadora de Calificaciones\n",
        "Contexto: Eres estudiante y quieres saber quénota necesitas en el examen final\n",
        "para pasar la materia. Tu materia se califica: 30% talleres, 30% parciales, 40% final.\n",
        "Crea un programa que:\n",
        "- Reciba tus notas actuales de talleres y parciales\n",
        "- Calcule quénota necesitas en el final para pasar (nota mínima 3.0)\n",
        "- Te diga si es posible alcanzar cierta nota objetivo\n",
        "- Muestre diferentes escenarios de notas finales"
      ],
      "metadata": {
        "id": "O8VyHQqCbyyf"
      }
    },
    {
      "cell_type": "code",
      "source": [
        "def calcu_calificaciones(): # Reciba notas actuales de talleres y parciales\n",
        "    nota_talleres = float(input(\"Ingrese la nota actual de talleres: \"))\n",
        "    nota_parciales = float(input(\"Ingrese la nota actual de parciales: \"))\n",
        "\n",
        "# Calcule que nota necesitas en el final para pasar con mínimo de 3.0\n",
        "    nota_final = (3.0 - (nota_talleres * 0.30) - (nota_parciales * 0.30)) / 0.40\n",
        "\n",
        "    print(f\"\\nPara pasar la materia con 3.0, necesitas una nota de {nota_final} en el examen final.\")\n",
        "\n",
        "# Te diga si es posible alcanzar cierta nota objetivo\n",
        "    nota_objetivo = float(input(\"Ingrese la nota objetivo que le gustaría obtener en la materia: \"))\n",
        "    nota_necesaria_objetivo = (nota_objetivo - (nota_talleres * 0.30) - (nota_parciales * 0.30)) / 0.40\n",
        "\n",
        "    if nota_necesaria_objetivo > 5.0:\n",
        "        print(f\"No es posible alcanzar una nota de {nota_objetivo} en la materia, incluso sacando 5.0 en el final.\")\n",
        "    elif nota_necesaria_objetivo < 0.0:\n",
        "        print(f\"Ya has superado la nota objetivo de {nota_objetivo}, incluso sacando 0.0 en el final.\")\n",
        "    else:\n",
        "        print(f\"Para alcanzar una nota de {nota_objetivo} en la materia, necesitas una nota de {nota_necesaria_objetivo} en el examen final.\")\n",
        "\n",
        "# Muestre diferentes escenarios de notas finales\n",
        "    print(\"\\nEscenarios de notas finales:\")\n",
        "    for posible_nota in [1.0, 2.0, 3.0, 4.0, 5.0]:\n",
        "        nota_total = (nota_talleres * 0.30) + (nota_parciales * 0.30) + (posible_nota * 0.40)\n",
        "        print(f\"Si sacas {posible_nota} en el final, tu nota total será {nota_total}\")\n",
        "\n",
        "calcu_calificaciones()"
      ],
      "metadata": {
        "id": "reRYo_NGbwWZ",
        "colab": {
          "base_uri": "https://localhost:8080/"
        },
        "outputId": "26d7aa5a-f0cb-44dd-bdc3-b47c715faba2"
      },
      "execution_count": 5,
      "outputs": [
        {
          "output_type": "stream",
          "name": "stdout",
          "text": [
            "Ingrese la nota actual de talleres: 3\n",
            "Ingrese la nota actual de parciales: 2\n",
            "\n",
            "Para pasar la materia con 3.0, necesitas una nota de 3.75 en el examen final.\n",
            "Ingrese la nota objetivo que le gustaría obtener en la materia: 3\n",
            "Para alcanzar una nota de 3.0 en la materia, necesitas una nota de 3.75 en el examen final.\n",
            "\n",
            "Escenarios de notas finales:\n",
            "Si sacas 1.0 en el final, tu nota total será 1.9\n",
            "Si sacas 2.0 en el final, tu nota total será 2.3\n",
            "Si sacas 3.0 en el final, tu nota total será 2.7\n",
            "Si sacas 4.0 en el final, tu nota total será 3.1\n",
            "Si sacas 5.0 en el final, tu nota total será 3.5\n"
          ]
        }
      ]
    },
    {
      "cell_type": "markdown",
      "source": [
        "##Ejercicio 5: Conversor de Divisas para Viajero\n",
        "Contexto: Vas a viajar a varios países y necesitas saber cuánto dinero llevar\n",
        "en cada moneda. Los tipos de cambio cambian, pero tienes las tasas actuales.\n",
        "Crea un programa que:\n",
        "- Convierta pesos colombianos a diferentes monedas\n",
        "- Calcule cuánto gastarás por día en cada país\n",
        "- Te muestre el total necesario por país\n",
        "- Compare costos de vida entre destinos"
      ],
      "metadata": {
        "id": "DQtteiClhsi7"
      }
    },
    {
      "cell_type": "code",
      "source": [
        "def calcu_divisas(): # Tipo de cambio\n",
        "    tipo_cambio = {\n",
        "        \"Costa Rica\": 0.13,     # 1 peso COP = 0.13 CRC\n",
        "        \"Brasil\": 0.0013,       # 1 COP = 0.0013 BRL\n",
        "        \"Alemania\": 0.00023,    # 1 COP = 0.00023 EUR\n",
        "        \"USA\": 0.00025,         # 1 COP = 0.00025 USD\n",
        "    }\n",
        "\n",
        "    dias_pais = {}\n",
        "    gasto_diario = {}\n",
        "\n",
        "    for pais in tipo_cambio:\n",
        "        dias = int(input(f\"\\n¿Cuántos días estarás en {pais}? \"))\n",
        "        gasto = float(input(f\"¿Cuánto planeas gastar por día en {pais} (en pesos colombianos)? \"))\n",
        "\n",
        "        dias_pais[pais] = dias\n",
        "        gasto_diario[pais] = gasto\n",
        "\n",
        "\n",
        "    costos_totales = {}\n",
        "\n",
        "# Convierta pesos colombianos a diferentes monedas\n",
        "# Calcule cuánto gastarás por día en cada país\n",
        "# Te muestre el total necesario por país\n",
        "    for pais in tipo_cambio:\n",
        "        total_pesos = gasto_diario[pais] * dias_pais[pais]\n",
        "        total_moneda_local = total_pesos * tipo_cambio[pais]\n",
        "        costos_totales[pais] = total_moneda_local\n",
        "\n",
        "        print(f\"\\n{pais}:\")\n",
        "        print(f\"  Días: {dias_pais[pais]}\")\n",
        "        print(f\"  Gasto diario (COP): {gasto_diario[pais]}\")\n",
        "        print(f\"  Total en pesos: {total_pesos}\")\n",
        "        print(f\"  Total en moneda local: {total_moneda_local:.2f}\")\n",
        "\n",
        "# Compare costos de vida entre destinos\n",
        "    print(\"\\n--- Comparación de costos entre países (en moneda local) ---\")\n",
        "    for pais, total in sorted(costos_totales.items(), key=lambda x: x[1], reverse=True):\n",
        "        print(f\"{pais}: {total}\")\n",
        "calcu_divisas()"
      ],
      "metadata": {
        "colab": {
          "base_uri": "https://localhost:8080/"
        },
        "id": "6NACdTWBj_uH",
        "outputId": "89e9b833-8b7c-473c-8dab-605b37b5aa4b"
      },
      "execution_count": 6,
      "outputs": [
        {
          "output_type": "stream",
          "name": "stdout",
          "text": [
            "\n",
            "¿Cuántos días estarás en Costa Rica? 5\n",
            "¿Cuánto planeas gastar por día en Costa Rica (en pesos colombianos)? 5000\n",
            "\n",
            "¿Cuántos días estarás en Brasil? 4\n",
            "¿Cuánto planeas gastar por día en Brasil (en pesos colombianos)? 6000\n",
            "\n",
            "¿Cuántos días estarás en Alemania? 6\n",
            "¿Cuánto planeas gastar por día en Alemania (en pesos colombianos)? 7000\n",
            "\n",
            "¿Cuántos días estarás en USA? 3\n",
            "¿Cuánto planeas gastar por día en USA (en pesos colombianos)? 5000\n",
            "\n",
            "Costa Rica:\n",
            "  Días: 5\n",
            "  Gasto diario (COP): 5000.0\n",
            "  Total en pesos: 25000.0\n",
            "  Total en moneda local: 3250.00\n",
            "\n",
            "Brasil:\n",
            "  Días: 4\n",
            "  Gasto diario (COP): 6000.0\n",
            "  Total en pesos: 24000.0\n",
            "  Total en moneda local: 31.20\n",
            "\n",
            "Alemania:\n",
            "  Días: 6\n",
            "  Gasto diario (COP): 7000.0\n",
            "  Total en pesos: 42000.0\n",
            "  Total en moneda local: 9.66\n",
            "\n",
            "USA:\n",
            "  Días: 3\n",
            "  Gasto diario (COP): 5000.0\n",
            "  Total en pesos: 15000.0\n",
            "  Total en moneda local: 3.75\n",
            "\n",
            "--- Comparación de costos entre países (en moneda local) ---\n",
            "Costa Rica: 3250.0\n",
            "Brasil: 31.2\n",
            "Alemania: 9.66\n",
            "USA: 3.75\n"
          ]
        }
      ]
    },
    {
      "cell_type": "markdown",
      "source": [
        "##Ejercicio 6: Calculadora de Consumo de Gasolina\n",
        "Contexto: Quieres controlar cuánto gastas en gasolina y quétan eficiente\n",
        "es tu carro. Registras cada vez que cargas gasolina.\n",
        "Crea un programa que:\n",
        "- Registre fecha, kilometraje, litros y precio por carga\n",
        "- Calcule consumo promedio (km por litro)\n",
        "- Calcule gasto mensual en gasolina\n",
        "- Te avise cuando el consumo sea anormalmente alto"
      ],
      "metadata": {
        "id": "vOd2QdhRnSiN"
      }
    },
    {
      "cell_type": "code",
      "source": [
        "def calcu_gasolina():\n",
        "    registros = []\n",
        "    consumo_referencia = 15\n",
        "\n",
        "    while True: # Registre fecha, kilometraje, litros y precio por carga\n",
        "        print(\"\\n--- Nuevo registro de gasolina ---\")\n",
        "        fecha = input(\"Fecha (YYYY-MM-DD): \")\n",
        "        km_actual = float(input(\"Kilometraje actual: \"))\n",
        "        litros = float(input(\"Litros cargados: \"))\n",
        "        precio_total = float(input(\"Precio total pagado: \"))\n",
        "\n",
        "        registros.append({\n",
        "            \"fecha\": fecha,\n",
        "            \"km\": km_actual,\n",
        "            \"litros\": litros,\n",
        "            \"precio\": precio_total\n",
        "        })\n",
        "\n",
        "        continuar = input(\"¿Deseas agregar otro registro? (si/no): \").lower()\n",
        "        if continuar != \"si\":\n",
        "            break\n",
        "\n",
        "# Calcule consumo promedio (km por litro)\n",
        "# Calcule gasto mensual en gasolina\n",
        "    consumo_total = 0\n",
        "    gasto_mensual = 0\n",
        "    total_registros = len(registros)\n",
        "\n",
        "    for i in range(1, total_registros):\n",
        "        anterior = registros[i - 1]\n",
        "        actual = registros[i]\n",
        "\n",
        "        km_recorridos = actual[\"km\"] - anterior[\"km\"]\n",
        "        litros_consumidos = actual[\"litros\"]\n",
        "        consumo = km_recorridos / litros_consumidos\n",
        "        gasto_mensual += actual[\"precio\"]\n",
        "        consumo_total += consumo\n",
        "\n",
        "        print(f\"\\nRegistro {i}:\")\n",
        "        print(f\"  Fecha: {actual['fecha']}\")\n",
        "        print(f\"  Km recorridos: {km_recorridos}\")\n",
        "        print(f\"  Litros: {litros_consumidos}\")\n",
        "        print(f\"  Consumo: {consumo} km/l\")\n",
        "\n",
        "# Te avise cuando el consumo sea anormalmente alto\n",
        "        if consumo < consumo_referencia * 0.8:\n",
        "            print(\"Consumo anormalmente alto. Revisa tu vehículo.\")\n",
        "\n",
        "    if total_registros > 1:\n",
        "        promedio = consumo_total / (total_registros - 1)\n",
        "        print(f\"\\nConsumo promedio general: {promedio} km/l\")\n",
        "    print(f\"Gasto total en gasolina: {gasto_mensual}\")\n",
        "calcu_gasolina()"
      ],
      "metadata": {
        "colab": {
          "base_uri": "https://localhost:8080/"
        },
        "id": "-yujK_IFnW-y",
        "outputId": "d019147d-79d0-4f8d-9b2e-d29d1af2f94b"
      },
      "execution_count": 9,
      "outputs": [
        {
          "output_type": "stream",
          "name": "stdout",
          "text": [
            "\n",
            "--- Nuevo registro de gasolina ---\n",
            "Fecha (YYYY-MM-DD): 2025-04-23\n",
            "Kilometraje actual: 60\n",
            "Litros cargados: 8\n",
            "Precio total pagado: 4000\n",
            "¿Deseas agregar otro registro? (si/no): si\n",
            "\n",
            "--- Nuevo registro de gasolina ---\n",
            "Fecha (YYYY-MM-DD): 2025-04-25\n",
            "Kilometraje actual: 40\n",
            "Litros cargados: 6\n",
            "Precio total pagado: 2000\n",
            "¿Deseas agregar otro registro? (si/no): no\n",
            "\n",
            "Registro 1:\n",
            "  Fecha: 2025-04-25\n",
            "  Km recorridos: -20.0\n",
            "  Litros: 6.0\n",
            "  Consumo: -3.3333333333333335 km/l\n",
            "Consumo anormalmente alto. Revisa tu vehículo.\n",
            "\n",
            "Consumo promedio general: -3.3333333333333335 km/l\n",
            "Gasto total en gasolina: 2000.0\n"
          ]
        }
      ]
    },
    {
      "cell_type": "markdown",
      "source": [
        "##Ejercicio 7: Contador de Hábitos Saludables\n",
        "Contexto: Quieres formar hábitos saludables: tomar agua, hacer ejercicio,\n",
        "dormir bien. Quieres trackear tu progreso diario.\n",
        "Crea un programa que:\n",
        "- Registre diariamente si cumpliste cada hábito\n",
        "- Calcule rachas consecutivas de cumplimiento\n",
        "- Muestre estadísticas semanales y mensuales\n",
        "- Te motive mostrando tu progreso"
      ],
      "metadata": {
        "id": "_sXd2E8WnXVK"
      }
    },
    {
      "cell_type": "code",
      "source": [
        "def contador_habitos():\n",
        "    dias = 7\n",
        "    agua = 0\n",
        "    ejercicio = 0\n",
        "    sueño = 0\n",
        "\n",
        "    for dia in range(1, dias + 1): # Registre diariamente si cumpliste cada hábito\n",
        "        print(f\"\\nDía {dia}:\")\n",
        "        hab_agua = input(\"  ¿Tomaste al menos 2L de agua? (si/no): \").lower()\n",
        "        hab_ejercicio = input(\"  ¿Hiciste al menos 30 min de ejercicio? (si/no): \").lower()\n",
        "        hab_sueño = input(\"  ¿Dormiste al menos 7 horas? (si/no): \").lower()\n",
        "\n",
        "        if hab_agua == \"si\":\n",
        "            agua += 1\n",
        "        if hab_ejercicio == \"si\":\n",
        "            ejercicio += 1\n",
        "        if hab_sueño == \"si\":\n",
        "            sueño += 1\n",
        "# Calcule rachas consecutivas de cumplimiento\n",
        "# Muestre estadísticas semanales y mensuales\n",
        "    por_agua = (agua / dias) * 100\n",
        "    por_ejercicio = (ejercicio / dias) * 100\n",
        "    por_sueño = (sueño / dias) * 100\n",
        "    print(\"\\n=== Resumen Semanal ===\")\n",
        "    print(f\"Agua: {agua} de {dias} días ({por_agua:.0f}%)\")\n",
        "    print(f\"Ejercicio: {ejercicio} de {dias} días ({por_ejercicio:.0f}%)\")\n",
        "    print(f\"Sueño: {sueño} de {dias} días ({por_sueño:.0f}%)\")\n",
        "\n",
        "# Te motive mostrando tu progreso\n",
        "    def mensaje(habito, porcentaje):\n",
        "        if porcentaje == 100:\n",
        "            return f\"Excelente trabajo con tu hábito de {habito}\"\n",
        "        elif porcentaje >= 70:\n",
        "            return f\"Muy bien con el hábito de {habito}, sigue así\"\n",
        "        elif porcentaje >= 50:\n",
        "            return f\"Vas bien con el hábito de {habito}\"\n",
        "        else:\n",
        "            return f\"Intenta enfocarte más en el hábito de {habito}.\"\n",
        "\n",
        "    print(\"\\n=== Recomendaciones ===\")\n",
        "    print(mensaje(\"agua\", por_agua))\n",
        "    print(mensaje(\"ejercicio\", por_ejercicio))\n",
        "    print(mensaje(\"sueño\", por_sueño))\n",
        "\n",
        "contador_habitos()"
      ],
      "metadata": {
        "id": "htBynYggnaRL",
        "colab": {
          "base_uri": "https://localhost:8080/"
        },
        "outputId": "913cb8b3-574d-4e8e-c678-4388997ded68"
      },
      "execution_count": 10,
      "outputs": [
        {
          "output_type": "stream",
          "name": "stdout",
          "text": [
            "\n",
            "Día 1:\n",
            "  ¿Tomaste al menos 2L de agua? (si/no): si\n",
            "  ¿Hiciste al menos 30 min de ejercicio? (si/no): si\n",
            "  ¿Dormiste al menos 7 horas? (si/no): no\n",
            "\n",
            "Día 2:\n",
            "  ¿Tomaste al menos 2L de agua? (si/no): si\n",
            "  ¿Hiciste al menos 30 min de ejercicio? (si/no): no\n",
            "  ¿Dormiste al menos 7 horas? (si/no): si\n",
            "\n",
            "Día 3:\n",
            "  ¿Tomaste al menos 2L de agua? (si/no): no\n",
            "  ¿Hiciste al menos 30 min de ejercicio? (si/no): si\n",
            "  ¿Dormiste al menos 7 horas? (si/no): si\n",
            "\n",
            "Día 4:\n",
            "  ¿Tomaste al menos 2L de agua? (si/no): si\n",
            "  ¿Hiciste al menos 30 min de ejercicio? (si/no): \n",
            "  ¿Dormiste al menos 7 horas? (si/no): no\n",
            "\n",
            "Día 5:\n",
            "  ¿Tomaste al menos 2L de agua? (si/no): si\n",
            "  ¿Hiciste al menos 30 min de ejercicio? (si/no): no\n",
            "  ¿Dormiste al menos 7 horas? (si/no): si\n",
            "\n",
            "Día 6:\n",
            "  ¿Tomaste al menos 2L de agua? (si/no): no\n",
            "  ¿Hiciste al menos 30 min de ejercicio? (si/no): si\n",
            "  ¿Dormiste al menos 7 horas? (si/no): no\n",
            "\n",
            "Día 7:\n",
            "  ¿Tomaste al menos 2L de agua? (si/no): si\n",
            "  ¿Hiciste al menos 30 min de ejercicio? (si/no): so\n",
            "  ¿Dormiste al menos 7 horas? (si/no): si\n",
            "\n",
            "=== Resumen Semanal ===\n",
            "Agua: 5 de 7 días (71%)\n",
            "Ejercicio: 3 de 7 días (43%)\n",
            "Sueño: 4 de 7 días (57%)\n",
            "\n",
            "=== Recomendaciones ===\n",
            "Muy bien con el hábito de agua, sigue así\n",
            "Intenta enfocarte más en el hábito de ejercicio.\n",
            "Vas bien con el hábito de sueño\n"
          ]
        }
      ]
    },
    {
      "cell_type": "markdown",
      "source": [
        "##Ejercicio 8: Organizador de Cumpleaños y Eventos\n",
        "Contexto: Siempre se te olvidan los cumpleaños de familiares y amigos.\n",
        "Quieres un sistema que te recuerde con anticipación.\n",
        "Crea un programa que:\n",
        "- Almacene fechas de cumpleaños y eventos importantes\n",
        "- Te avise con 1 semana y 1 día de anticipación\n",
        "- Sugiera ideas de regalos según la persona y tu presupuesto\n",
        "- Lleve registro de qué regalos has dado antes"
      ],
      "metadata": {
        "id": "jpTzIPponafR"
      }
    },
    {
      "cell_type": "code",
      "source": [
        "from datetime import datetime, timedelta\n",
        "\n",
        "# Almacene fechas de cumpleaños y eventos importantes\n",
        "eventos = [\n",
        "    {\"nombre\": \"Mamá\", \"fecha\": \"2025-06-27\", \"tipo\": \"cumpleaños\", \"presupuesto\": 30000, \"regalo_dado\": \"Collar\"},\n",
        "    {\"nombre\": \"Carlos\", \"fecha\": \"2025-06-21\", \"tipo\": \"cumpleaños\", \"presupuesto\": 20000, \"regalo_dado\": \"Libro\"},\n",
        "    {\"nombre\": \"Aniversario con pareja\", \"fecha\": \"2025-07-01\", \"tipo\": \"aniversario\", \"presupuesto\": 50000, \"regalo_dado\": \"Cena romántica\"},\n",
        "]\n",
        "\n",
        "# Sugiera ideas de regalos según la persona y tu presupuesto\n",
        "def sugerir_regalo(presupuesto):\n",
        "    if presupuesto < 10000:\n",
        "        return \"Una carta hecha a mano o chocolates\"\n",
        "    elif presupuesto < 30000:\n",
        "        return \"Un libro, flores o una planta\"\n",
        "    elif presupuesto < 60000:\n",
        "        return \"Una prenda de ropa o una cena especial\"\n",
        "    else:\n",
        "        return \"Un perfume, experiencia (spa, paseo), o joyería\"\n",
        "\n",
        "# Te avise con 1 semana y 1 día de anticipación\n",
        "def revisar_eventos():\n",
        "    hoy = datetime.today().date()\n",
        "    print(\"=== Eventos Próximos ===\\n\")\n",
        "\n",
        "    for evento in eventos:\n",
        "        fecha_evento = datetime.strptime(evento[\"fecha\"], \"%Y-%m-%d\").date()\n",
        "        dias_faltantes = (fecha_evento - hoy).days\n",
        "\n",
        "        if dias_faltantes == 7:\n",
        "            print(f\"Faltan 7 días para el {evento['tipo']} de {evento['nombre']}\")\n",
        "        elif dias_faltantes == 1:\n",
        "            print(f\"Mañana es el {evento['tipo']} de {evento['nombre']}\")\n",
        "        elif dias_faltantes < 0:\n",
        "            continue\n",
        "# Lleve registro de qué regalos has dado antes\n",
        "        if dias_faltantes <= 7 and dias_faltantes >= 0:\n",
        "            idea = sugerir_regalo(evento[\"presupuesto\"])\n",
        "            print(f\"Sugerencia de regalo: {idea}\")\n",
        "            print(f\"Último regalo dado: {evento['regalo_dado']}\\n\")\n",
        "\n",
        "revisar_eventos()"
      ],
      "metadata": {
        "id": "3BYZB73kndWA",
        "colab": {
          "base_uri": "https://localhost:8080/"
        },
        "outputId": "40ba7772-28eb-4310-b69b-59989a2cf2c7"
      },
      "execution_count": 11,
      "outputs": [
        {
          "output_type": "stream",
          "name": "stdout",
          "text": [
            "=== Eventos Próximos ===\n",
            "\n",
            "Sugerencia de regalo: Una prenda de ropa o una cena especial\n",
            "Último regalo dado: Collar\n",
            "\n",
            "Sugerencia de regalo: Una prenda de ropa o una cena especial\n",
            "Último regalo dado: Cena romántica\n",
            "\n"
          ]
        }
      ]
    },
    {
      "cell_type": "markdown",
      "source": [
        "##Ejercicio 9: Simulador de Ahorro para Metas\n",
        "Contexto: Tienes varias metas de ahorro (viaje, computador, emergencias)\n",
        "y quieres saber cuánto ahorrar cada mes para cumplirlas.\n",
        "Crea un programa que:\n",
        "- Defina metas con monto objetivo y fecha límite\n",
        "- Calcule cuánto debes ahorrar mensualmente para cada meta\n",
        "- Registre tus ahorros reales mes a mes\n",
        "- Te muestre si vas en camino de cumplir tus metas"
      ],
      "metadata": {
        "id": "dGqg3flVndjp"
      }
    },
    {
      "cell_type": "code",
      "source": [
        "from datetime import datetime\n",
        "\n",
        "def simulador_ahorro():\n",
        "    metas = []\n",
        "\n",
        "# Defina metas con monto objetivo y fecha límite\n",
        "    n = int(input(\"¿Cuántas metas de ahorro tienes? \"))\n",
        "    for i in range(n):\n",
        "        print(f\"\\nMeta {i+1}\")\n",
        "        nombre = input(\"Nombre de la meta (ej: Viaje, Computador, Emergencias): \")\n",
        "        monto_objetivo = float(input(\"Monto objetivo (₡): \"))\n",
        "        fecha_limite_str = input(\"Fecha límite (YYYY-MM-DD): \")\n",
        "        fecha_limite = datetime.strptime(fecha_limite_str, \"%Y-%m-%d\").date()\n",
        "        hoy = datetime.today().date()\n",
        "        meses_restantes = (fecha_limite.year - hoy.year) * 12 + (fecha_limite.month - hoy.month)\n",
        "\n",
        "        if meses_restantes <= 0:\n",
        "            print(\"Fecha límite inválida o ya pasada.\")\n",
        "            continue\n",
        "\n",
        "        mensual_necesario = monto_objetivo / meses_restantes\n",
        "\n",
        "        metas.append({\n",
        "            \"nombre\": nombre,\n",
        "            \"monto_objetivo\": monto_objetivo,\n",
        "            \"fecha_limite\": fecha_limite,\n",
        "            \"mensual_necesario\": mensual_necesario,\n",
        "            \"ahorros_reales\": []\n",
        "        })\n",
        "\n",
        "# Calcule cuánto debes ahorrar mensualmente para cada meta\n",
        "    print(\"\\n=== Registro de ahorro mensual ===\")\n",
        "    for meta in metas:\n",
        "        print(f\"\\nMeta: {meta['nombre']}\")\n",
        "        meses = int(input(\"¿Cuántos meses deseas registrar (hasta hoy)? \"))\n",
        "        for m in range(1, meses + 1):\n",
        "            ahorro = float(input(f\"  Ahorro del mes {m}: \"))\n",
        "            meta[\"ahorros_reales\"].append(ahorro)\n",
        "\n",
        "# Registre tus ahorros reales mes a mes\n",
        "    print(\"\\n=== Resumen de progreso ===\")\n",
        "    for meta in metas:\n",
        "        total_ahorrado = sum(meta[\"ahorros_reales\"])\n",
        "        meses_restantes = (meta[\"fecha_limite\"].year - datetime.today().year) * 12 + (meta[\"fecha_limite\"].month - datetime.today().month)\n",
        "        faltante = meta[\"monto_objetivo\"] - total_ahorrado\n",
        "\n",
        "        print(f\"\\nMeta: {meta['nombre']}\")\n",
        "        print(f\"  Monto objetivo: {meta['monto_objetivo']}\")\n",
        "        print(f\"  Ahorro acumulado: {total_ahorrado}\")\n",
        "        print(f\"  Ahorro mensual necesario: {meta['mensual_necesario']:.2f}\")\n",
        "        print(f\"  Faltan {meses_restantes} meses. Te faltan {faltante:.2f}\")\n",
        "\n",
        "# Te muestre si vas en camino de cumplir tus metas\n",
        "        if faltante <= 0:\n",
        "            print(\"Meta alcanzada\")\n",
        "        elif meses_restantes > 0:\n",
        "            ajuste = faltante / meses_restantes\n",
        "            print(f\"Deberías ahorrar al menos {ajuste:.2f} cada mes para cumplir.\")\n",
        "        else:\n",
        "            print(\"Ya pasó la fecha límite. No alcanzaste la meta.\")\n",
        "\n",
        "simulador_ahorro()"
      ],
      "metadata": {
        "id": "cOLZVBJCng6K",
        "colab": {
          "base_uri": "https://localhost:8080/"
        },
        "outputId": "34a07f75-ec66-4e61-a25a-a303c5d1b323"
      },
      "execution_count": 12,
      "outputs": [
        {
          "output_type": "stream",
          "name": "stdout",
          "text": [
            "¿Cuántas metas de ahorro tienes? 3\n",
            "\n",
            "Meta 1\n",
            "Nombre de la meta (ej: Viaje, Computador, Emergencias): Viaje\n",
            "Monto objetivo (₡): 8000\n",
            "Fecha límite (YYYY-MM-DD): 2025-06-04\n",
            "Fecha límite inválida o ya pasada.\n",
            "\n",
            "Meta 2\n",
            "Nombre de la meta (ej: Viaje, Computador, Emergencias): Computador\n",
            "Monto objetivo (₡): 50000\n",
            "Fecha límite (YYYY-MM-DD): 2025-09-05\n",
            "\n",
            "Meta 3\n",
            "Nombre de la meta (ej: Viaje, Computador, Emergencias): Emergencias\n",
            "Monto objetivo (₡): 70000\n",
            "Fecha límite (YYYY-MM-DD): 2025-08-03\n",
            "\n",
            "=== Registro de ahorro mensual ===\n",
            "\n",
            "Meta: Computador\n",
            "¿Cuántos meses deseas registrar (hasta hoy)? 3\n",
            "  Ahorro del mes 1: 5000\n",
            "  Ahorro del mes 2: 2000\n",
            "  Ahorro del mes 3: 4000\n",
            "\n",
            "Meta: Emergencias\n",
            "¿Cuántos meses deseas registrar (hasta hoy)? 4\n",
            "  Ahorro del mes 1: 5000\n",
            "  Ahorro del mes 2: 1000\n",
            "  Ahorro del mes 3: 2500\n",
            "  Ahorro del mes 4: 3000\n",
            "\n",
            "=== Resumen de progreso ===\n",
            "\n",
            "Meta: Computador\n",
            "  Monto objetivo: 50000.0\n",
            "  Ahorro acumulado: 11000.0\n",
            "  Ahorro mensual necesario: 16666.67\n",
            "  Faltan 3 meses. Te faltan 39000.00\n",
            "Deberías ahorrar al menos 13000.00 cada mes para cumplir.\n",
            "\n",
            "Meta: Emergencias\n",
            "  Monto objetivo: 70000.0\n",
            "  Ahorro acumulado: 11500.0\n",
            "  Ahorro mensual necesario: 35000.00\n",
            "  Faltan 2 meses. Te faltan 58500.00\n",
            "Deberías ahorrar al menos 29250.00 cada mes para cumplir.\n"
          ]
        }
      ]
    },
    {
      "cell_type": "markdown",
      "source": [
        "##Ejercicio 10: Control de Inventario de Tienda\n",
        "Contexto: Tu familia tiene una pequeña tienda de barrio. Necesitas llevar\n",
        "control de quéproductos se venden más y cuáles se están acabando.\n",
        "Crea un programa que:\n",
        "- Registre cada venta (producto, cantidad, precio)\n",
        "- Mantenga inventario actualizado\n",
        "- Alerte cuando un producto tenga menos de 5 unidades\n",
        "- Muestre quéproductos se venden más"
      ],
      "metadata": {
        "id": "vK0Fhp2jnhLU"
      }
    },
    {
      "cell_type": "code",
      "source": [
        "def control_inventario():\n",
        "    inventario = {\n",
        "        \"arroz\": [20, 1200],\n",
        "        \"frijoles\": [15, 1500],\n",
        "        \"azúcar\": [10, 1000],\n",
        "        \"huevos\": [30, 150],\n",
        "        \"pan\": [8, 250]\n",
        "    }\n",
        "\n",
        "# Registre cada venta (producto, cantidad, precio)\n",
        "    ventas = {}\n",
        "\n",
        "    print(\"=== Control de Inventario ===\")\n",
        "    while True:\n",
        "        producto = input(\"\\nProducto vendido (o 'salir' para terminar): \").lower()\n",
        "        if producto == \"salir\":\n",
        "            break\n",
        "\n",
        "        if producto not in inventario:\n",
        "            print(\"Producto no encontrado en inventario.\")\n",
        "            continue\n",
        "\n",
        "        cantidad = int(input(\"Cantidad vendida: \"))\n",
        "\n",
        "        if cantidad > inventario[producto][0]:\n",
        "            print(\"No hay suficiente inventario.\")\n",
        "            continue\n",
        "\n",
        "# Mantenga inventario actualizado\n",
        "        inventario[producto][0] -= cantidad\n",
        "\n",
        "        if producto not in ventas:\n",
        "            ventas[producto] = 0\n",
        "        ventas[producto] += cantidad\n",
        "\n",
        "        print(f\"Venta registrada. Quedan {inventario[producto][0]} unidades de {producto}.\")\n",
        "\n",
        "# Alerte cuando un producto tenga menos de 5 unidades\n",
        "        if inventario[producto][0] < 5:\n",
        "            print(f\"¡Alerta! Quedan menos de 5 unidades de {producto}.\")\n",
        "\n",
        "# Muestre quéproductos se venden más\n",
        "    print(\"\\n=== Productos más vendidos ===\")\n",
        "    if ventas:\n",
        "        for prod, total_vendido in sorted(ventas.items(), key=lambda x: x[1], reverse=True):\n",
        "            print(f\"{prod}: {total_vendido} unidades vendidas\")\n",
        "    else:\n",
        "        print(\"No se registraron ventas.\")\n",
        "\n",
        "    print(\"\\n=== Inventario actualizado ===\")\n",
        "    for prod, data in inventario.items():\n",
        "        print(f\"{prod}: {data[0]} unidades\")\n",
        "\n",
        "control_inventario()\n"
      ],
      "metadata": {
        "id": "KRiUFknsnkqg",
        "colab": {
          "base_uri": "https://localhost:8080/"
        },
        "outputId": "dca1b9ac-0ba6-47ff-c80e-943918572e6f"
      },
      "execution_count": 15,
      "outputs": [
        {
          "output_type": "stream",
          "name": "stdout",
          "text": [
            "=== Control de Inventario ===\n",
            "\n",
            "Producto vendido (o 'salir' para terminar): arroz\n",
            "Cantidad vendida: 7\n",
            "Venta registrada. Quedan 13 unidades de arroz.\n",
            "\n",
            "Producto vendido (o 'salir' para terminar): huevos\n",
            "Cantidad vendida: 8\n",
            "Venta registrada. Quedan 22 unidades de huevos.\n",
            "\n",
            "Producto vendido (o 'salir' para terminar): pan\n",
            "Cantidad vendida: 6\n",
            "Venta registrada. Quedan 2 unidades de pan.\n",
            "¡Alerta! Quedan menos de 5 unidades de pan.\n",
            "\n",
            "Producto vendido (o 'salir' para terminar): salir\n",
            "\n",
            "=== Productos más vendidos ===\n",
            "huevos: 8 unidades vendidas\n",
            "arroz: 7 unidades vendidas\n",
            "pan: 6 unidades vendidas\n",
            "\n",
            "=== Inventario actualizado ===\n",
            "arroz: 13 unidades\n",
            "frijoles: 15 unidades\n",
            "azúcar: 10 unidades\n",
            "huevos: 22 unidades\n",
            "pan: 2 unidades\n"
          ]
        }
      ]
    }
  ]
}